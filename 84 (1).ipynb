{
 "cells": [
  {
   "cell_type": "code",
   "execution_count": 1,
   "id": "b43f5a21",
   "metadata": {},
   "outputs": [
    {
     "name": "stdout",
     "output_type": "stream",
     "text": [
      "Fuzzy Combined Test Set Accuracy: 84.4%\n"
     ]
    },
    {
     "name": "stderr",
     "output_type": "stream",
     "text": [
      "C:\\Users\\ASUS CBI\\anaconda3\\lib\\site-packages\\sklearn\\neural_network\\_multilayer_perceptron.py:692: ConvergenceWarning: Stochastic Optimizer: Maximum iterations (1000) reached and the optimization hasn't converged yet.\n",
      "  warnings.warn(\n"
     ]
    }
   ],
   "source": [
    "from sklearn.model_selection import train_test_split, GridSearchCV\n",
    "from sklearn.ensemble import RandomForestClassifier, VotingClassifier\n",
    "from sklearn.tree import DecisionTreeClassifier\n",
    "from sklearn.svm import SVC\n",
    "from sklearn.neural_network import MLPClassifier\n",
    "from sklearn.preprocessing import MinMaxScaler\n",
    "from sklearn.metrics import accuracy_score\n",
    "from imblearn.over_sampling import SMOTE\n",
    "import pandas as pd\n",
    "import numpy as np\n",
    "from fuzzywuzzy import fuzz\n",
    "\n",
    "# Load your diabetes dataset or replace it with your data\n",
    "diabetes = pd.read_csv('diabetes.csv')\n",
    "\n",
    "# Use a smaller subset of data for experimentation (adjust as needed)\n",
    "diabetes_subset = diabetes.sample(frac=0.5, random_state=42)\n",
    "\n",
    "# Split the data into training and testing sets\n",
    "X_train, X_test, y_train, y_test = train_test_split(\n",
    "    diabetes_subset.loc[:, diabetes_subset.columns != 'Outcome'],\n",
    "    diabetes_subset['Outcome'],\n",
    "    stratify=diabetes_subset['Outcome'],\n",
    "    random_state=66\n",
    ")\n",
    "\n",
    "# Apply SMOTE to the training data only\n",
    "smote = SMOTE(random_state=0)\n",
    "X_train_resampled, y_train_resampled = smote.fit_resample(X_train, y_train)\n",
    "\n",
    "# Create individual classifiers and a scaler\n",
    "scaler = MinMaxScaler()\n",
    "rf = RandomForestClassifier(random_state=0, n_jobs=-1)  # Use all available cores for training\n",
    "dt = DecisionTreeClassifier(random_state=0)\n",
    "svm = SVC(probability=True, random_state=0)\n",
    "ann = MLPClassifier(hidden_layer_sizes=(100, 50), max_iter=1000, random_state=0)\n",
    "\n",
    "# Scale the resampled training data and testing data\n",
    "X_train_scaled = scaler.fit_transform(X_train_resampled)\n",
    "X_test_scaled = scaler.transform(X_test)\n",
    "\n",
    "# Hyperparameter tuning for Random Forest with a reduced search space\n",
    "param_grid = {\n",
    "    'n_estimators': [50, 100],\n",
    "    'max_depth': [None, 10],\n",
    "    'min_samples_split': [2, 5],\n",
    "    'min_samples_leaf': [1, 2]\n",
    "}\n",
    "\n",
    "grid_search = GridSearchCV(RandomForestClassifier(random_state=0, n_jobs=-1), param_grid, cv=5)\n",
    "grid_search.fit(X_train_scaled, y_train_resampled)\n",
    "\n",
    "# Get the best Random Forest model from the search\n",
    "best_rf_model = grid_search.best_estimator_\n",
    "\n",
    "# Create a VotingClassifier with the best models\n",
    "voting_clf = VotingClassifier(estimators=[\n",
    "    ('rf', best_rf_model),\n",
    "    ('dt', dt),\n",
    "    ('svm', svm),\n",
    "    ('ann', ann)\n",
    "], voting='hard')\n",
    "\n",
    "# Train the VotingClassifier\n",
    "voting_clf.fit(X_train_scaled, y_train_resampled)\n",
    "\n",
    "# Predict using the VotingClassifier\n",
    "combined_predictions = voting_clf.predict(X_test_scaled)\n",
    "\n",
    "# Use fuzzy logic for post-processing or refining predictions\n",
    "def apply_fuzzy_logic(predictions, threshold=80):\n",
    "    fuzzy_predictions = []\n",
    "\n",
    "    for prediction in predictions:\n",
    "        # Apply fuzzy matching with a threshold\n",
    "        similarity = fuzz.ratio(str(prediction), 'Your_Target_Label')\n",
    "        if similarity >= threshold:\n",
    "            fuzzy_predictions.append('Your_Target_Label')\n",
    "        else:\n",
    "            fuzzy_predictions.append(prediction)\n",
    "\n",
    "    return fuzzy_predictions\n",
    "\n",
    "# Apply fuzzy logic to the combined predictions\n",
    "fuzzy_combined_predictions = apply_fuzzy_logic(combined_predictions)\n",
    "\n",
    "# Calculate accuracy of the fuzzy combined predictions\n",
    "accuracy = accuracy_score(y_test, fuzzy_combined_predictions)\n",
    "print(\"Fuzzy Combined Test Set Accuracy: {:.1f}%\".format(accuracy * 100))"
   ]
  },
  {
   "cell_type": "code",
   "execution_count": 2,
   "id": "0632b6fa",
   "metadata": {},
   "outputs": [
    {
     "name": "stdout",
     "output_type": "stream",
     "text": [
      "The person is diabetic\n"
     ]
    },
    {
     "name": "stderr",
     "output_type": "stream",
     "text": [
      "C:\\Users\\ASUS CBI\\anaconda3\\lib\\site-packages\\sklearn\\base.py:450: UserWarning: X does not have valid feature names, but MinMaxScaler was fitted with feature names\n",
      "  warnings.warn(\n"
     ]
    }
   ],
   "source": [
    "# Assuming you've already imported MinMaxScaler and your classifier\n",
    "# Define the input data\n",
    "#input_data = (1,85,66,29,0,26.6,0.351,31)\n",
    "input_data = (6,148,72,35,0,33.6,0.627,50)\n",
    "\n",
    "# Changing the input_data to a numpy array\n",
    "input_data_as_numpy_array = np.asarray(input_data)\n",
    "\n",
    "# Reshape the array as we are predicting for one instance\n",
    "input_data_reshaped = input_data_as_numpy_array.reshape(1, -1)\n",
    "\n",
    "# Standardize the input data\n",
    "std_data = scaler.transform(input_data_reshaped)\n",
    "\n",
    "# Check if scaler is fitted\n",
    "if scaler is None:\n",
    "    print(\"Scaler is not fitted. Please fit the scaler first.\")\n",
    "else:\n",
    "    prediction = voting_clf.predict(std_data)\n",
    "\n",
    "    if prediction[0] == 0:\n",
    "        print('The person is not diabetic')\n",
    "    else:\n",
    "        print('The person is diabetic')"
   ]
  },
  {
   "cell_type": "code",
   "execution_count": 3,
   "id": "78037302",
   "metadata": {},
   "outputs": [],
   "source": [
    "import pickle\n",
    "filename = 'diabetes_kowchik_model2.sav'\n",
    "pickle.dump(voting_clf, open(filename, 'wb'))"
   ]
  },
  {
   "cell_type": "code",
   "execution_count": 4,
   "id": "c99ce01a",
   "metadata": {},
   "outputs": [
    {
     "name": "stdout",
     "output_type": "stream",
     "text": [
      "The person is diabetic\n"
     ]
    },
    {
     "name": "stderr",
     "output_type": "stream",
     "text": [
      "C:\\Users\\ASUS CBI\\anaconda3\\lib\\site-packages\\sklearn\\base.py:450: UserWarning: X does not have valid feature names, but MinMaxScaler was fitted with feature names\n",
      "  warnings.warn(\n"
     ]
    }
   ],
   "source": [
    "# loading the saved model\n",
    "loaded_model = pickle.load(open('diabetes_kowchik_model1.sav', 'rb'))\n",
    "\n",
    "input_data = (6,148,72,35,0,33.6,0.627,50)\n",
    "\n",
    "# Changing the input_data to a numpy array\n",
    "input_data_as_numpy_array = np.asarray(input_data)\n",
    "\n",
    "# Reshape the array as we are predicting for one instance\n",
    "input_data_reshaped = input_data_as_numpy_array.reshape(1, -1)\n",
    "\n",
    "# Standardize the input data\n",
    "std_data = scaler.transform(input_data_reshaped)\n",
    "\n",
    "# Check if scaler is fitted\n",
    "if scaler is None:\n",
    "    print(\"Scaler is not fitted. Please fit the scaler first.\")\n",
    "else:\n",
    "    prediction = loaded_model.predict(std_data)\n",
    "\n",
    "    if prediction[0] == 0:\n",
    "        print('The person is not diabetic')\n",
    "    else:\n",
    "        print('The person is diabetic')\n"
   ]
  },
  {
   "cell_type": "code",
   "execution_count": null,
   "id": "476c8e63",
   "metadata": {},
   "outputs": [],
   "source": []
  }
 ],
 "metadata": {
  "kernelspec": {
   "display_name": "Python 3 (ipykernel)",
   "language": "python",
   "name": "python3"
  },
  "language_info": {
   "codemirror_mode": {
    "name": "ipython",
    "version": 3
   },
   "file_extension": ".py",
   "mimetype": "text/x-python",
   "name": "python",
   "nbconvert_exporter": "python",
   "pygments_lexer": "ipython3",
   "version": "3.9.13"
  }
 },
 "nbformat": 4,
 "nbformat_minor": 5
}
